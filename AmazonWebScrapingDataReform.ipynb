{
 "cells": [
  {
   "cell_type": "code",
   "execution_count": 113,
   "id": "operating-humanitarian",
   "metadata": {},
   "outputs": [],
   "source": [
    "import numpy as np\n",
    "import matplotlib.pyplot as plt\n",
    "import seaborn as sns\n",
    "from scipy import stats\n",
    "import math as m\n",
    "import pandas as pd\n",
    "\n",
    "amazonResults = pd.read_csv('AmazonResults.csv')\n",
    "\n",
    "amazonResults = pd.DataFrame(amazonResults)"
   ]
  },
  {
   "cell_type": "code",
   "execution_count": 114,
   "id": "looking-blake",
   "metadata": {},
   "outputs": [
    {
     "data": {
      "text/html": [
       "<div>\n",
       "<style scoped>\n",
       "    .dataframe tbody tr th:only-of-type {\n",
       "        vertical-align: middle;\n",
       "    }\n",
       "\n",
       "    .dataframe tbody tr th {\n",
       "        vertical-align: top;\n",
       "    }\n",
       "\n",
       "    .dataframe thead th {\n",
       "        text-align: right;\n",
       "    }\n",
       "</style>\n",
       "<table border=\"1\" class=\"dataframe\">\n",
       "  <thead>\n",
       "    <tr style=\"text-align: right;\">\n",
       "      <th></th>\n",
       "      <th>Description</th>\n",
       "      <th>Price</th>\n",
       "      <th>Rating</th>\n",
       "      <th>ReviewCount</th>\n",
       "      <th>URL</th>\n",
       "    </tr>\n",
       "  </thead>\n",
       "  <tbody>\n",
       "    <tr>\n",
       "      <th>0</th>\n",
       "      <td>Electriq 43\" Super UltraWide 120Hz Curved Monitor</td>\n",
       "      <td>£449.98</td>\n",
       "      <td>3.8 out of 5 stars</td>\n",
       "      <td>3</td>\n",
       "      <td>/gp/slredirect/picassoRedirect.html/ref=pa_sp_...</td>\n",
       "    </tr>\n",
       "    <tr>\n",
       "      <th>1</th>\n",
       "      <td>Philips 345E2AE - 34 Inch WQHD Ultrawide Monit...</td>\n",
       "      <td>£339.59</td>\n",
       "      <td>4.3 out of 5 stars</td>\n",
       "      <td>80</td>\n",
       "      <td>/gp/slredirect/picassoRedirect.html/ref=pa_sp_...</td>\n",
       "    </tr>\n",
       "    <tr>\n",
       "      <th>2</th>\n",
       "      <td>Samsung S34J550WQR - LED monitor - 34.1\" - 344...</td>\n",
       "      <td>£268.99</td>\n",
       "      <td>4.2 out of 5 stars</td>\n",
       "      <td>39</td>\n",
       "      <td>/Samsung-S34J550WQR-monitor-2xHDMI-DisplayPort...</td>\n",
       "    </tr>\n",
       "    <tr>\n",
       "      <th>3</th>\n",
       "      <td>LG UltraWide 25UM58 25-inch IPS Monitor (2560 ...</td>\n",
       "      <td>£125.30</td>\n",
       "      <td>4.6 out of 5 stars</td>\n",
       "      <td>5,009</td>\n",
       "      <td>/LG-25UM58-inch-Ultrawide-Monitor/dp/B01BV1XB2...</td>\n",
       "    </tr>\n",
       "    <tr>\n",
       "      <th>4</th>\n",
       "      <td>Philips 345E2AE - 34 Inch WQHD Ultrawide Monit...</td>\n",
       "      <td>£339.59</td>\n",
       "      <td>4.3 out of 5 stars</td>\n",
       "      <td>80</td>\n",
       "      <td>/Philips-345E2AE-Ultrawide-FreeSync-Speakers/d...</td>\n",
       "    </tr>\n",
       "  </tbody>\n",
       "</table>\n",
       "</div>"
      ],
      "text/plain": [
       "                                         Description    Price  \\\n",
       "0  Electriq 43\" Super UltraWide 120Hz Curved Monitor  £449.98   \n",
       "1  Philips 345E2AE - 34 Inch WQHD Ultrawide Monit...  £339.59   \n",
       "2  Samsung S34J550WQR - LED monitor - 34.1\" - 344...  £268.99   \n",
       "3  LG UltraWide 25UM58 25-inch IPS Monitor (2560 ...  £125.30   \n",
       "4  Philips 345E2AE - 34 Inch WQHD Ultrawide Monit...  £339.59   \n",
       "\n",
       "               Rating ReviewCount  \\\n",
       "0  3.8 out of 5 stars           3   \n",
       "1  4.3 out of 5 stars          80   \n",
       "2  4.2 out of 5 stars          39   \n",
       "3  4.6 out of 5 stars       5,009   \n",
       "4  4.3 out of 5 stars          80   \n",
       "\n",
       "                                                 URL  \n",
       "0  /gp/slredirect/picassoRedirect.html/ref=pa_sp_...  \n",
       "1  /gp/slredirect/picassoRedirect.html/ref=pa_sp_...  \n",
       "2  /Samsung-S34J550WQR-monitor-2xHDMI-DisplayPort...  \n",
       "3  /LG-25UM58-inch-Ultrawide-Monitor/dp/B01BV1XB2...  \n",
       "4  /Philips-345E2AE-Ultrawide-FreeSync-Speakers/d...  "
      ]
     },
     "execution_count": 114,
     "metadata": {},
     "output_type": "execute_result"
    }
   ],
   "source": [
    "amazonResults.head()"
   ]
  },
  {
   "cell_type": "code",
   "execution_count": 115,
   "id": "blank-rubber",
   "metadata": {},
   "outputs": [],
   "source": [
    "amazonResults = amazonResults.drop('URL', 1)"
   ]
  },
  {
   "cell_type": "code",
   "execution_count": 116,
   "id": "southeast-angola",
   "metadata": {},
   "outputs": [
    {
     "name": "stdout",
     "output_type": "stream",
     "text": [
      "There are 118 duplicates\n"
     ]
    }
   ],
   "source": [
    "numDuplicates = len(amazonResults[amazonResults.duplicated()])\n",
    "print(\"There are \" + str(numDuplicates) + \" duplicates\")"
   ]
  },
  {
   "cell_type": "code",
   "execution_count": 117,
   "id": "narrative-plaza",
   "metadata": {},
   "outputs": [
    {
     "data": {
      "text/plain": [
       "(245, 4)"
      ]
     },
     "execution_count": 117,
     "metadata": {},
     "output_type": "execute_result"
    }
   ],
   "source": [
    "amazonResults = amazonResults.drop_duplicates()\n",
    "amazonResults.shape"
   ]
  },
  {
   "cell_type": "markdown",
   "id": "suitable-stress",
   "metadata": {},
   "source": [
    "## Need to convert price column values into floats:"
   ]
  },
  {
   "cell_type": "code",
   "execution_count": 118,
   "id": "concrete-ivory",
   "metadata": {},
   "outputs": [],
   "source": [
    "def priceToFloat(price):\n",
    "    price = price.replace(',', '')\n",
    "    return float(price.replace('£', ''))"
   ]
  },
  {
   "cell_type": "code",
   "execution_count": 119,
   "id": "mathematical-webcam",
   "metadata": {},
   "outputs": [],
   "source": [
    "amazonResults['Price'] = amazonResults['Price'].apply(priceToFloat)"
   ]
  },
  {
   "cell_type": "markdown",
   "id": "greek-annotation",
   "metadata": {},
   "source": [
    "## Need to convert rating column values into floats:"
   ]
  },
  {
   "cell_type": "code",
   "execution_count": 120,
   "id": "needed-florida",
   "metadata": {},
   "outputs": [],
   "source": [
    "def ratingToFloat(rating):\n",
    "    if str(rating) == 'nan':\n",
    "        return 0\n",
    "    \n",
    "    return float(rating[:3])"
   ]
  },
  {
   "cell_type": "code",
   "execution_count": 121,
   "id": "headed-mountain",
   "metadata": {},
   "outputs": [],
   "source": [
    "amazonResults['Rating'] = amazonResults['Rating'].apply(ratingToFloat)"
   ]
  },
  {
   "cell_type": "markdown",
   "id": "processed-delhi",
   "metadata": {},
   "source": [
    "## Need to convert review count into integers:"
   ]
  },
  {
   "cell_type": "code",
   "execution_count": 124,
   "id": "increasing-merchant",
   "metadata": {},
   "outputs": [],
   "source": [
    "def reviewCountToInteger(reviewCount):\n",
    "    reviewCount = str(reviewCount).strip(',')\n",
    "    \n",
    "    try:\n",
    "        reviewCount = int(reviewCount)\n",
    "    except:\n",
    "        return 0\n",
    "    \n",
    "    return reviewCount"
   ]
  },
  {
   "cell_type": "code",
   "execution_count": 125,
   "id": "executive-michigan",
   "metadata": {},
   "outputs": [],
   "source": [
    "amazonResults['ReviewCount'] = amazonResults['ReviewCount'].apply(reviewCountToInteger)"
   ]
  }
 ],
 "metadata": {
  "kernelspec": {
   "display_name": "Python 3",
   "language": "python",
   "name": "python3"
  },
  "language_info": {
   "codemirror_mode": {
    "name": "ipython",
    "version": 3
   },
   "file_extension": ".py",
   "mimetype": "text/x-python",
   "name": "python",
   "nbconvert_exporter": "python",
   "pygments_lexer": "ipython3",
   "version": "3.8.3"
  }
 },
 "nbformat": 4,
 "nbformat_minor": 5
}
